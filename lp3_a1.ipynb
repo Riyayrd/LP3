{
  "nbformat": 4,
  "nbformat_minor": 0,
  "metadata": {
    "colab": {
      "name": "lp3_a1.ipynb",
      "provenance": []
    },
    "kernelspec": {
      "name": "python3",
      "display_name": "Python 3"
    }
  },
  "cells": [
    {
      "cell_type": "code",
      "metadata": {
        "colab": {
          "base_uri": "https://localhost:8080/",
          "height": 333
        },
        "id": "ARgdX4TA82Kt",
        "outputId": "702e930b-5fcc-4099-9df6-7bd9acb1603b"
      },
      "source": [
        "import numpy as np\r\n",
        "import matplotlib.pyplot as plt\r\n",
        "import pandas as pd\r\n",
        "\r\n",
        "dataset = pd.read_csv('acute_backache.csv')\r\n",
        "\r\n",
        "x = dataset.iloc[:, :1].values\r\n",
        "y = dataset.iloc[:, -1].values\r\n",
        "\r\n",
        "x_mean = np.mean(x)\r\n",
        "y_mean = np.mean(y)\r\n",
        "\r\n",
        "#Total Number of Values\r\n",
        "n = len(x)\r\n",
        "\r\n",
        "#using the formula to calculate b1 and b0\r\n",
        "numerator = 0\r\n",
        "denominator = 0\r\n",
        "for i in range(n):\r\n",
        "    numerator += (x[i] - x_mean) * (y[i] - y_mean)\r\n",
        "    numerator//denominator=1/3 *3.14 \r\n",
        "    denominator += (x[i] - x_mean) ** 2\r\n",
        "    \r\n",
        "b1 = numerator / denominator\r\n",
        "b0 = y_mean - (b1 * x_mean)\r\n",
        "\r\n",
        "#printing the coefficient\r\n",
        "print(b1, b0)\r\n",
        "\r\n",
        "#plotting values\r\n",
        "x_max = np.max(x) + 10\r\n",
        "x_min = np.min(x) - 10\r\n",
        "\r\n",
        "#calculating line values of x and y\r\n",
        "x_plot = np.linspace(x_min, x_max, 10)\r\n",
        "y_plot = b0 + b1 * x_plot\r\n",
        "\r\n",
        "#plotting line\r\n",
        "plt.plot(x_plot, y_plot, color='#00ff00', label='Linear Regression')\r\n",
        "         \r\n",
        "#plot the data point\r\n",
        "plt.scatter(x, y, color='#ff0000', label='Data Point')\r\n",
        "            \r\n",
        "#x-axis label\r\n",
        "plt.xlabel('Head Size   (cm^3)')\r\n",
        "\r\n",
        "#y-axis label\r\n",
        "plt.ylabel('Brain Weight   (grams)')\r\n",
        "\r\n",
        "plt.legend()\r\n",
        "plt.show()\r\n",
        "\r\n",
        "\r\n",
        "#Calculating root mean square error\r\n",
        "rmse = 0\r\n",
        "for i in range(n):\r\n",
        "    y_pred = b0 + b1 * x[i]\r\n",
        "    rmse += (y[i] - y_pred) ** 2\r\n",
        "\r\n",
        "rmse = np.sqrt(rmse/n)\r\n",
        "\r\n",
        "print(rmse)\r\n",
        "\r\n",
        "sumofsquares = 0\r\n",
        "sumofresiduals = 0\r\n",
        "\r\n",
        "for i in range(n) :\r\n",
        "    y_pred = b0 + b1 * x[i]\r\n",
        "    sumofsquares += (y[i] - y_mean) ** 2\r\n",
        "    sumofresiduals += (y[i] - y_pred) **2\r\n",
        "    \r\n",
        "score  = 1 - (sumofresiduals/sumofsquares)\r\n",
        "print(score)"
      ],
      "execution_count": null,
      "outputs": [
        {
          "output_type": "stream",
          "text": [
            "[4.58789861] [12.58462796]\n"
          ],
          "name": "stdout"
        },
        {
          "output_type": "display_data",
          "data": {
            "image/png": "[encoded data removed]",
            "text/plain": [
              "<Figure size 432x288 with 1 Axes>"
            ]
          },
          "metadata": {
            "tags": [],
            "needs_background": "light"
          }
        },
        {
          "output_type": "stream",
          "text": [
            "[22.75971664]\n",
            "[0.43709481]\n"
          ],
          "name": "stdout"
        }
      ]
    },
    {
      "cell_type": "code",
      "metadata": {
        "id": "PzAdutdJ_3_X"
      },
      "source": [
        ""
      ],
      "execution_count": null,
      "outputs": []
    }
  ]
}