{
 "cells": [
  {
   "cell_type": "markdown",
   "id": "1fc295d0",
   "metadata": {},
   "source": [
    "RSA: Ron Rivest, Adi Shamir and Len Adlean\n",
    "\n",
    "YouTube link: https://www.youtube.com/watch?v=LTVGDuM8OCo"
   ]
  },
  {
   "cell_type": "markdown",
   "id": "8c59bec8",
   "metadata": {},
   "source": [
    "###### Key Generation\n",
    "1. Choose primes p and q, and calculate n = pq\n",
    "2. Select e: gcd(pi(n), e) = 1, 1 < e < pi(n)\n",
    "3. Find d = e^(-1) (mod pi(n))"
   ]
  },
  {
   "cell_type": "code",
   "execution_count": 10,
   "id": "03471579",
   "metadata": {},
   "outputs": [],
   "source": [
    "# RSA Key Generation\n",
    "# Select 2 primes\n",
    "p = 17\n",
    "q = 11"
   ]
  },
  {
   "cell_type": "code",
   "execution_count": 11,
   "id": "030088ec",
   "metadata": {},
   "outputs": [],
   "source": [
    "import math"
   ]
  },
  {
   "cell_type": "code",
   "execution_count": 12,
   "id": "b3ac5119",
   "metadata": {},
   "outputs": [],
   "source": [
    "def is_prime(n: int) -> bool:\n",
    "    if n == 2:\n",
    "        return True\n",
    "    for i in range(2, n):\n",
    "        if n%i == 0:\n",
    "            return False\n",
    "    return True"
   ]
  },
  {
   "cell_type": "code",
   "execution_count": 36,
   "id": "199a7fca",
   "metadata": {},
   "outputs": [],
   "source": [
    "def generate_key_pair(p: int, q: int):\n",
    "    if not (is_prime(p) and is_prime(q)):\n",
    "        raise ValueError('Both numbers must be prime.')\n",
    "    elif p == q:\n",
    "        raise ValueError('p and q cannot be equal')\n",
    "        \n",
    "    n = p * q\n",
    "    phi_n = (p-1)*(q-1)\n",
    "    for i in range(2, phi_n):\n",
    "        if math.gcd(i, phi_n) == 1:\n",
    "            e = i\n",
    "            break\n",
    "    e = 7        \n",
    "    for i in range(0, 10):\n",
    "        x = 1+(i * phi_n)\n",
    "        if x%e == 0:\n",
    "            d = x//e\n",
    "            break\n",
    "            \n",
    "    return ((e, n), (d, n))"
   ]
  },
  {
   "cell_type": "code",
   "execution_count": 37,
   "id": "023cc17c",
   "metadata": {},
   "outputs": [
    {
     "name": "stdout",
     "output_type": "stream",
     "text": [
      "Public Key: (7, 187)\n",
      "Private Key: (23, 187)\n"
     ]
    }
   ],
   "source": [
    "public_key, private_key = generate_key_pair(p, q)\n",
    "print(f'Public Key: {public_key}')\n",
    "print(f'Private Key: {private_key}')"
   ]
  },
  {
   "cell_type": "code",
   "execution_count": 38,
   "id": "be701a0f",
   "metadata": {},
   "outputs": [
    {
     "name": "stdout",
     "output_type": "stream",
     "text": [
      "((7, 299), (151, 299))\n"
     ]
    }
   ],
   "source": [
    "print(generate_key_pair(13, 23))"
   ]
  },
  {
   "cell_type": "code",
   "execution_count": 39,
   "id": "69c4a461",
   "metadata": {},
   "outputs": [],
   "source": [
    "m = 15  # plain-text"
   ]
  },
  {
   "cell_type": "code",
   "execution_count": 43,
   "id": "cb5ddae4",
   "metadata": {},
   "outputs": [],
   "source": [
    "def encryption(public_key, m):\n",
    "    e, n = public_key\n",
    "    cipher_text = (m ** e) % n\n",
    "    return cipher_text"
   ]
  },
  {
   "cell_type": "code",
   "execution_count": 47,
   "id": "ee927cd5",
   "metadata": {},
   "outputs": [],
   "source": [
    "def decryption(private_key, cipher_text):\n",
    "    d, n = private_key\n",
    "    plain_text = (cipher_text ** d) % n\n",
    "    return plain_text"
   ]
  },
  {
   "cell_type": "code",
   "execution_count": 48,
   "id": "051b30f5",
   "metadata": {},
   "outputs": [
    {
     "name": "stdout",
     "output_type": "stream",
     "text": [
      "93\n"
     ]
    }
   ],
   "source": [
    "cipher_text = encryption(public_key, m)\n",
    "print(cipher_text)"
   ]
  },
  {
   "cell_type": "code",
   "execution_count": 49,
   "id": "d72581bb",
   "metadata": {},
   "outputs": [
    {
     "name": "stdout",
     "output_type": "stream",
     "text": [
      "15\n"
     ]
    }
   ],
   "source": [
    "plain_text = decryption(private_key, cipher_text)\n",
    "print(plain_text)"
   ]
  },
  {
   "cell_type": "code",
   "execution_count": 50,
   "id": "94a2ebc8",
   "metadata": {},
   "outputs": [],
   "source": [
    "assert plain_text == m"
   ]
  },
  {
   "cell_type": "code",
   "execution_count": null,
   "id": "46df3fa5",
   "metadata": {},
   "outputs": [],
   "source": []
  }
 ],
 "metadata": {
  "kernelspec": {
   "display_name": "venv",
   "language": "python",
   "name": "venv"
  },
  "language_info": {
   "codemirror_mode": {
    "name": "ipython",
    "version": 3
   },
   "file_extension": ".py",
   "mimetype": "text/x-python",
   "name": "python",
   "nbconvert_exporter": "python",
   "pygments_lexer": "ipython3",
   "version": "3.8.5"
  }
 },
 "nbformat": 4,
 "nbformat_minor": 5
}
